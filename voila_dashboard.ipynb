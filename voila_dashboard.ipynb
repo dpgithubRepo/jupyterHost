{
 "cells": [
  {
   "cell_type": "code",
   "execution_count": null,
   "id": "8e2b98e7",
   "metadata": {},
   "outputs": [],
   "source": [
    "# Import libraries\n",
    "import pandas as pd\n",
    "import matplotlib.pyplot as plt\n",
    "import seaborn as sns\n",
    "from wordcloud import WordCloud\n",
    "\n",
    "# Load and preprocess data\n",
    "df = pd.read_csv('all_zen.csv')\n",
    "df['Requested'] = pd.to_datetime(df['Requested'])\n",
    "df.set_index('Requested', inplace=True)\n",
    "\n",
    "# Categorize issues\n",
    "def categorize_issue(subject):\n",
    "    subject = subject.lower()\n",
    "    if 'level' in subject:\n",
    "        return 'Level'\n",
    "    elif 'avail' in subject:\n",
    "        return 'Availability'\n",
    "    elif 'platform' in subject:\n",
    "        return 'Platform'\n",
    "    else:\n",
    "        return 'Other'\n",
    "\n",
    "df['Category'] = df['Subject'].apply(categorize_issue)\n"
   ]
  },
  {
   "cell_type": "code",
   "execution_count": null,
   "id": "f08568df",
   "metadata": {},
   "outputs": [],
   "source": [
    "# Visualizations\n",
    "df['ID'].resample('D').count().plot(title='Ticket Volume Over Time', figsize=(12, 6))\n",
    "plt.tight_layout()\n",
    "plt.show()\n"
   ]
  },
  {
   "cell_type": "code",
   "execution_count": null,
   "id": "1df06596",
   "metadata": {},
   "outputs": [],
   "source": [
    "top_15 = df['Subject'].value_counts().head(15)\n",
    "top_15.plot(kind='bar', figsize=(12, 6), title='Top 15 Most Frequently Repeated Issues')\n",
    "plt.tight_layout()\n",
    "plt.show()\n"
   ]
  },
  {
   "cell_type": "code",
   "execution_count": null,
   "id": "04e0dced",
   "metadata": {},
   "outputs": [],
   "source": [
    "category_counts = df['Category'].value_counts()\n",
    "category_counts.plot(kind='pie', autopct='%1.1%%', title='Issue Categories Distribution')\n",
    "plt.ylabel('')\n",
    "plt.tight_layout()\n",
    "plt.show()\n"
   ]
  },
  {
   "cell_type": "code",
   "execution_count": null,
   "id": "b12646f0",
   "metadata": {},
   "outputs": [],
   "source": [
    "df['Assignee'].value_counts().plot(kind='bar', figsize=(12, 6), title='Ticket Resolution by Assignee')\n",
    "plt.tight_layout()\n",
    "plt.show()\n"
   ]
  },
  {
   "cell_type": "code",
   "execution_count": null,
   "id": "5d6d7ba0",
   "metadata": {},
   "outputs": [],
   "source": [
    "df['DayOfWeek'] = df.index.dayofweek\n",
    "df['Hour'] = df.index.hour\n",
    "heatmap_data = df.groupby(['DayOfWeek', 'Hour']).size().unstack()\n",
    "sns.heatmap(heatmap_data, cmap='YlGnBu', annot=True, fmt='.0f')\n",
    "plt.tight_layout()\n",
    "plt.show()\n"
   ]
  },
  {
   "cell_type": "code",
   "execution_count": null,
   "id": "0ec7441e",
   "metadata": {},
   "outputs": [],
   "source": [
    "wordcloud = WordCloud(width=800, height=400, background_color='white').generate(' '.join(df['Subject']))\n",
    "plt.imshow(wordcloud, interpolation='bilinear')\n",
    "plt.axis('off')\n",
    "plt.tight_layout()\n",
    "plt.show()\n"
   ]
  },
  {
   "cell_type": "code",
   "execution_count": null,
   "id": "c6eeddda",
   "metadata": {},
   "outputs": [],
   "source": [
    "# Advanced Insights\n",
    "weekday_hour_heatmap_data = df.groupby(['DayOfWeek', 'Hour']).size().unstack()\n",
    "sns.heatmap(weekday_hour_heatmap_data, cmap='YlGnBu', annot=True, fmt='.0f')\n",
    "plt.tight_layout()\n",
    "plt.show()\n"
   ]
  },
  {
   "cell_type": "code",
   "execution_count": null,
   "id": "41ca4625",
   "metadata": {},
   "outputs": [],
   "source": [
    "df['Escalated'] = df['Status'].apply(lambda x: 'Escalated' if 'Escalated' in x else 'Not Escalated')\n",
    "escalation_by_assignee = df[df['Escalated'] == 'Escalated']['Assignee'].value_counts()\n",
    "if not escalation_by_assignee.empty:\n",
    "    escalation_by_assignee.plot(kind='bar', figsize=(12, 6), title='Escalation Patterns by Assignee')\n",
    "    plt.tight_layout()\n",
    "    plt.show()\n"
   ]
  },
  {
   "cell_type": "code",
   "execution_count": null,
   "id": "5d65080c",
   "metadata": {},
   "outputs": [],
   "source": [
    "interaction_matrix = pd.crosstab(df['Requester'], df['Assignee'])\n",
    "sns.heatmap(interaction_matrix, cmap='YlGnBu', annot=True, fmt='.0f')\n",
    "plt.tight_layout()\n",
    "plt.show()\n"
   ]
  },
  {
   "cell_type": "code",
   "execution_count": null,
   "id": "272bc2d3",
   "metadata": {},
   "outputs": [],
   "source": [
    "status_counts = df['Status'].value_counts()\n",
    "status_counts.plot(kind='bar', figsize=(12, 6), title='Issue Lifecycle Stages')\n",
    "plt.tight_layout()\n",
    "plt.show()\n"
   ]
  }
 ],
 "metadata": {
  "language_info": {
   "name": "python"
  }
 },
 "nbformat": 4,
 "nbformat_minor": 5
}
